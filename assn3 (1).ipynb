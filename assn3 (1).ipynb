{
  "cells": [
    {
      "cell_type": "code",
      "execution_count": 18,
      "metadata": {
        "id": "CHTjlqAX_5_v",
        "colab": {
          "base_uri": "https://localhost:8080/"
        },
        "outputId": "7155a76f-f055-4ad2-dbeb-e6547bba28b8"
      },
      "outputs": [
        {
          "output_type": "stream",
          "name": "stdout",
          "text": [
            "Drive already mounted at /content/gdrive; to attempt to forcibly remount, call drive.mount(\"/content/gdrive\", force_remount=True).\n",
            "Drive already mounted at /content/gdrive; to attempt to forcibly remount, call drive.mount(\"/content/gdrive\", force_remount=True).\n"
          ]
        }
      ],
      "source": [
        "from google.colab import drive\n",
        "drive.mount('/content/gdrive')"
      ]
    },
    {
      "cell_type": "code",
      "execution_count": 17,
      "metadata": {
        "colab": {
          "base_uri": "https://localhost:8080/"
        },
        "id": "yUTGRc37W6mH",
        "outputId": "2753b11c-e753-41ec-801b-4acee36ce9f3"
      },
      "outputs": [
        {
          "output_type": "stream",
          "name": "stdout",
          "text": [
            "--2024-01-10 13:37:59--  https://www.cs.toronto.edu/~kriz/cifar-10-python.tar.gz\n",
            "Resolving www.cs.toronto.edu (www.cs.toronto.edu)... 128.100.3.30\n",
            "Connecting to www.cs.toronto.edu (www.cs.toronto.edu)|128.100.3.30|:443... connected.\n",
            "HTTP request sent, awaiting response... 416 Requested Range Not Satisfiable\n",
            "\n",
            "    The file is already fully retrieved; nothing to do.\n",
            "\n",
            "mkdir: cannot create directory ‘cifar-10’: File exists\n",
            "cifar-10-batches-py/\n",
            "cifar-10-batches-py/data_batch_4\n",
            "cifar-10-batches-py/readme.html\n",
            "cifar-10-batches-py/test_batch\n",
            "cifar-10-batches-py/data_batch_3\n",
            "cifar-10-batches-py/batches.meta\n",
            "cifar-10-batches-py/data_batch_2\n",
            "cifar-10-batches-py/data_batch_5\n",
            "cifar-10-batches-py/data_batch_1\n"
          ]
        }
      ],
      "source": [
        "# Data Preprocessing\n",
        "# Download the CIFAR-10 dataset\n",
        "!wget -c https://www.cs.toronto.edu/~kriz/cifar-10-python.tar.gz\n",
        "!mkdir cifar-10\n",
        "!tar -xzvf cifar-10-python.tar.gz -C cifar-10/"
      ]
    },
    {
      "cell_type": "code",
      "execution_count": null,
      "metadata": {
        "id": "nmh-ltVVTfy8"
      },
      "outputs": [],
      "source": [
        "# Importing the necessary libraries\n",
        "import matplotlib.pyplot as plt\n",
        "import numpy as np\n",
        "import torch\n",
        "import torchvision\n",
        "import torchvision.transforms as transforms\n",
        "import torch.nn as nn\n",
        "import torch.nn.functional as F\n",
        "import torch.optim as optim\n",
        "from torch.utils.data import DataLoader, TensorDataset"
      ]
    },
    {
      "cell_type": "code",
      "execution_count": null,
      "metadata": {
        "id": "AAZnWV6xUQ3M"
      },
      "outputs": [],
      "source": [
        "# Transformation\n",
        "transform = transforms.Compose( # composing several transforms together\n",
        "    [transforms.ToTensor(), # to tensor object\n",
        "     transforms.Normalize((0.5, 0.5, 0.5), (0.5, 0.5, 0.5))]) # mean = 0.5, std = 0.5\n",
        "\n"
      ]
    },
    {
      "cell_type": "code",
      "execution_count": null,
      "metadata": {
        "colab": {
          "base_uri": "https://localhost:8080/"
        },
        "id": "5jBi80QJiTBB",
        "outputId": "d02bc584-7aac-4d62-a04c-7e7b81d9aa85"
      },
      "outputs": [
        {
          "name": "stdout",
          "output_type": "stream",
          "text": [
            "Files already downloaded and verified\n",
            "Files already downloaded and verified\n"
          ]
        }
      ],
      "source": [
        "# Loading the data\n",
        "\n",
        "batch_size = 4\n",
        "num_workers = 0\n",
        "trainset = torchvision.datasets.CIFAR10(root='./data', train=True,\n",
        "                                        download=True, transform=transform)\n",
        "trainloader = torch.utils.data.DataLoader(trainset, batch_size=4,\n",
        "                                          shuffle=True, num_workers=0)\n",
        "\n",
        "# load test data\n",
        "testset = torchvision.datasets.CIFAR10(root='./data', train=False,\n",
        "                                       download=True, transform=transform)\n",
        "testloader = torch.utils.data.DataLoader(testset, batch_size=4,\n",
        "                                         shuffle=False, num_workers=0)\n",
        "\n",
        "# put 10 classes into a set\n",
        "classes = ('plane', 'car', 'bird', 'cat',\n",
        "           'deer', 'dog', 'frog', 'horse', 'ship', 'truck')"
      ]
    },
    {
      "cell_type": "code",
      "execution_count": null,
      "metadata": {
        "colab": {
          "base_uri": "https://localhost:8080/",
          "height": 210
        },
        "id": "4UViq8BZUsV7",
        "outputId": "0da627e5-3868-482e-8283-c829508e56eb"
      },
      "outputs": [
        {
          "data": {
            "image/png": "[encoded data removed]",
            "text/plain": [
              "<Figure size 640x480 with 1 Axes>"
            ]
          },
          "metadata": {},
          "output_type": "display_data"
        },
        {
          "name": "stdout",
          "output_type": "stream",
          "text": [
            "dog cat horse deer\n"
          ]
        }
      ],
      "source": [
        "def imshow(img):\n",
        "  img = img / 2 + 0.5\n",
        "  npimg = img.numpy()\n",
        "  plt.imshow(np.transpose(npimg, (1, 2, 0)))\n",
        "  plt.show()\n",
        "\n",
        "# get random training images with iter function\n",
        "dataiter = iter(trainloader)\n",
        "images, labels = next(dataiter)\n",
        "\n",
        "imshow(torchvision.utils.make_grid(images))\n",
        "\n",
        "print(' '.join('%s' % classes[labels[j]] for j in range(batch_size)))\n"
      ]
    },
    {
      "cell_type": "code",
      "execution_count": null,
      "metadata": {
        "colab": {
          "base_uri": "https://localhost:8080/"
        },
        "id": "gmgd5sRUWajR",
        "outputId": "a1a44e64-1029-4b52-823a-e9ea3a932ef5"
      },
      "outputs": [
        {
          "name": "stdout",
          "output_type": "stream",
          "text": [
            "<class '__main__.Net'>\n"
          ]
        }
      ],
      "source": [
        "# Defining the CNN\n",
        "class Net(nn.Module):\n",
        "\n",
        "    def __init__(self):\n",
        "\n",
        "        super(Net, self).__init__()\n",
        "\t# 3 input image channel, 6 output channels,\n",
        "\t# 5x5 square convolution kernel\n",
        "        self.conv1 = nn.Conv2d(3, 6, 5)\n",
        "\t# Max pooling over a (2, 2) window\n",
        "        self.pool = nn.MaxPool2d(2, 2)\n",
        "        self.conv2 = nn.Conv2d(6, 16, 5)\n",
        "        self.fc1 = nn.Linear(16 * 5 * 5, 120)# 5x5 from image dimension\n",
        "        self.fc2 = nn.Linear(120, 84)\n",
        "        self.fc3 = nn.Linear(84, 10)\n",
        "\n",
        "    def forward(self, x):\n",
        "\n",
        "        x = self.pool(F.relu(self.conv1(x)))\n",
        "        x = self.pool(F.relu(self.conv2(x)))\n",
        "        x = x.view(-1, 16 * 5 * 5)\n",
        "        x = F.relu(self.fc1(x))\n",
        "        x = F.relu(self.fc2(x))\n",
        "        x = self.fc3(x)\n",
        "        return x\n",
        "\n",
        "model = Net()\n",
        "print(Net)\n"
      ]
    },
    {
      "cell_type": "code",
      "execution_count": null,
      "metadata": {
        "id": "Euq1MeD_bKCm"
      },
      "outputs": [],
      "source": [
        "# Optimizer\n",
        "criterion = nn.CrossEntropyLoss() # CrossEntropyLoss is used as it combines LogSoftmax and NLLLoss\n",
        "optimizer = optim.SGD(model.parameters(), lr=0.01)"
      ]
    },
    {
      "cell_type": "code",
      "execution_count": null,
      "metadata": {
        "colab": {
          "background_save": true
        },
        "id": "s4Rp0pKfWPp1"
      },
      "outputs": [],
      "source": [
        "# Training the model\n",
        "num_epochs = 5 # Adjust as needed\n",
        "\n",
        "model.train()\n",
        "\n",
        "for epoch in range(num_epochs):\n",
        "    for inputs, targets in trainloader:\n",
        "        optimizer.zero_grad()\n",
        "        outputs = model(inputs)\n",
        "        loss = criterion(outputs, targets)\n",
        "        loss.backward()\n",
        "        optimizer.step()"
      ]
    },
    {
      "cell_type": "code",
      "execution_count": null,
      "metadata": {
        "colab": {
          "background_save": true
        },
        "id": "8nrz0r7PW5kR",
        "outputId": "ab1a828d-9ca5-4f55-af52-c661b7381206"
      },
      "outputs": [
        {
          "name": "stdout",
          "output_type": "stream",
          "text": [
            "Finished Training\n"
          ]
        }
      ],
      "source": [
        "print(\"Finished Training\")"
      ]
    },
    {
      "cell_type": "markdown",
      "source": [
        "**TO IMPLEMENT UNCERTAINITY MEASURE**\n",
        "\n",
        "**TO IMPLEMENT USING LEAST CONFIDENCE METHOD**"
      ],
      "metadata": {
        "id": "pRiHkZVgmyGM"
      }
    },
    {
      "cell_type": "code",
      "execution_count": 23,
      "metadata": {
        "id": "-M7j1WRuhGc5",
        "colab": {
          "base_uri": "https://localhost:8080/",
          "height": 1000
        },
        "outputId": "50960f38-39b7-4cfe-ea9c-2a78f854dee3"
      },
      "outputs": [
        {
          "output_type": "stream",
          "name": "stdout",
          "text": [
            "Sample 0: Least Confidence = 0.0009\n"
          ]
        },
        {
          "output_type": "display_data",
          "data": {
            "text/plain": [
              "<Figure size 640x480 with 1 Axes>"
            ],
            "image/png": "[encoded data removed]"
          },
          "metadata": {}
        },
        {
          "output_type": "stream",
          "name": "stdout",
          "text": [
            "True Label: cat, Predicted: dog\n",
            "\n",
            "Sample 1: Least Confidence = 0.0000\n"
          ]
        },
        {
          "output_type": "display_data",
          "data": {
            "text/plain": [
              "<Figure size 640x480 with 1 Axes>"
            ],
            "image/png": "[encoded data removed]"
          },
          "metadata": {}
        },
        {
          "output_type": "stream",
          "name": "stdout",
          "text": [
            "True Label: ship, Predicted: ship\n",
            "\n",
            "Sample 2: Least Confidence = 0.0029\n"
          ]
        },
        {
          "output_type": "display_data",
          "data": {
            "text/plain": [
              "<Figure size 640x480 with 1 Axes>"
            ],
            "image/png": "[encoded data removed]"
          },
          "metadata": {}
        },
        {
          "output_type": "stream",
          "name": "stdout",
          "text": [
            "True Label: ship, Predicted: plane\n",
            "\n",
            "Sample 3: Least Confidence = 0.0001\n"
          ]
        },
        {
          "output_type": "display_data",
          "data": {
            "text/plain": [
              "<Figure size 640x480 with 1 Axes>"
            ],
            "image/png": "[encoded data removed]"
          },
          "metadata": {}
        },
        {
          "output_type": "stream",
          "name": "stdout",
          "text": [
            "True Label: plane, Predicted: plane\n",
            "\n",
            "Sample 4: Least Confidence = 0.0011\n"
          ]
        },
        {
          "output_type": "display_data",
          "data": {
            "text/plain": [
              "<Figure size 640x480 with 1 Axes>"
            ],
            "image/png": "[encoded data removed]"
          },
          "metadata": {}
        },
        {
          "output_type": "stream",
          "name": "stdout",
          "text": [
            "True Label: frog, Predicted: deer\n",
            "\n",
            "Accuracy of the model on the test data: 50.00%\n"
          ]
        }
      ],
      "source": [
        "# Switch model to evaluation mode\n",
        "model.eval()\n",
        "\n",
        "least_confidence_threshold=0.5\n",
        "\n",
        "# Set the maximum number of samples to display\n",
        "max_display_samples = 5\n",
        "\n",
        "# Counter for displayed samples\n",
        "displayed_samples = 0\n",
        "\n",
        "# Initialize variables to track performance\n",
        "total_samples = 0\n",
        "correct_predictions = 0\n",
        "\n",
        "# Disable gradient computations\n",
        "with torch.no_grad():\n",
        "    for inputs, targets in testloader:\n",
        "        outputs = model(inputs)\n",
        "\n",
        "        # Get the predicted class (the one with the highest probability)\n",
        "        _, predicted = torch.max(outputs.data, 1)\n",
        "\n",
        "\n",
        "\n",
        "        # Calculate confidence scores using softmax\n",
        "        softmax_probs = F.softmax(outputs, dim=1)\n",
        "        # Get the least confidence score for each sample\n",
        "        least_confidence_scores, _ = torch.min(softmax_probs, dim=1)\n",
        "        # Identify and print samples with the lowest confidence\n",
        "        for i in range(len(targets)):\n",
        "            if least_confidence_scores[i] < least_confidence_threshold:\n",
        "                print(f\"Sample {total_samples + i}: Least Confidence = {least_confidence_scores[i]:.4f}\")\n",
        "                imshow(torchvision.utils.make_grid(inputs[i]))\n",
        "                print(f\"True Label: {classes[targets[i]]}, Predicted: {classes[predicted[i]]}\\n\")\n",
        "\n",
        "                # Increment the counter for displayed samples\n",
        "                displayed_samples += 1\n",
        "\n",
        "                # Check if the maximum number of samples to display is reached\n",
        "                if displayed_samples >= max_display_samples:\n",
        "                    break\n",
        "\n",
        "        # Update total and correct counts\n",
        "        total_samples += targets.size(0)\n",
        "        correct_predictions += (predicted == targets).sum().item()\n",
        "\n",
        "        # Check if the maximum number of samples to display is reached\n",
        "        if displayed_samples >= max_display_samples:\n",
        "            break\n",
        "\n",
        "# Calculate accuracy\n",
        "accuracy = 100 * correct_predictions / total_samples\n",
        "print(f'Accuracy of the model on the test data: {accuracy:.2f}%')"
      ]
    },
    {
      "cell_type": "markdown",
      "source": [
        "**TO IMPLEMENT USING PREDICTION ENTROPY METHOD**"
      ],
      "metadata": {
        "id": "cnyQ9VKtpoaf"
      }
    },
    {
      "cell_type": "code",
      "execution_count": null,
      "metadata": {
        "id": "ZX1kYeGRgjuh"
      },
      "outputs": [],
      "source": [
        "# Set a threshold for prediction entropy\n",
        "high_entropy_threshold = 2.0  # Adjust as needed\n",
        "\n",
        "# Set the maximum number of samples to display\n",
        "max_display_samples = 5  # Adjust as needed\n",
        "\n",
        "# Counter for displayed samples\n",
        "displayed_samples = 0\n",
        "\n",
        "# Disable gradient computations\n",
        "with torch.no_grad():\n",
        "    for inputs, targets in testloader:\n",
        "        outputs = model(inputs)\n",
        "\n",
        "        # Get the predicted class (the one with the highest probability)\n",
        "        _, predicted = torch.max(outputs.data, 1)\n",
        "\n",
        "        # Calculate entropy of the predicted probability distribution\n",
        "        entropy = -torch.sum(F.softmax(outputs, dim=1) * F.log_softmax(outputs, dim=1), dim=1)\n",
        "\n",
        "        # Identify and print samples with high entropy\n",
        "        for i in range(len(targets)):\n",
        "            if entropy[i] > high_entropy_threshold:\n",
        "                print(f\"Sample {total_samples + i}: Prediction Entropy = {entropy[i]:.4f}\")\n",
        "                imshow(torchvision.utils.make_grid(inputs[i]))\n",
        "                print(f\"True Label: {classes[targets[i]]}, Predicted: {classes[predicted[i]]}\\n\")\n",
        "\n",
        "                # Increment the counter for displayed samples\n",
        "                displayed_samples += 1\n",
        "\n",
        "                # Check if the maximum number of samples to display is reached\n",
        "                if displayed_samples >= max_display_samples:\n",
        "                    break\n",
        "        # Update total and correct counts\n",
        "        total_samples += targets.size(0)\n",
        "        correct_predictions += (predicted == targets).sum().item()\n",
        "\n",
        "        # Check if the maximum number of samples to display is reached\n",
        "        if displayed_samples >= max_display_samples:\n",
        "            break\n"
      ]
    },
    {
      "cell_type": "markdown",
      "source": [
        "**Margin Sampling**"
      ],
      "metadata": {
        "id": "C7Xgn9Po17mx"
      }
    },
    {
      "cell_type": "code",
      "source": [
        "\n",
        "# Set the maximum number of samples to display\n",
        "max_display_samples = 5  # Adjust as needed\n",
        "\n",
        "# Counter for displayed samples\n",
        "displayed_samples = 0\n",
        "\n",
        "# Initialize variables to track performance\n",
        "total_samples = 0\n",
        "\n",
        "# Set a threshold for margin sampling\n",
        "margin_threshold = 0.2  # Adjust as needed\n",
        "\n",
        "# Disable gradient computations\n",
        "with torch.no_grad():\n",
        "    for inputs, targets in testloader:\n",
        "        outputs = model(inputs)\n",
        "\n",
        "        # Get the predicted class (the one with the highest probability)\n",
        "        _, predicted = torch.max(outputs.data, 1)\n",
        "\n",
        "        # Calculate confidence scores using softmax\n",
        "        softmax_probs = F.softmax(outputs, dim=1)\n",
        "\n",
        "        # Sort the confidence scores and get the top two values and classes\n",
        "        top2_probs, top2_classes = torch.topk(softmax_probs, 2, dim=1)\n",
        "\n",
        "        # Calculate the margin (difference between top two confidence scores)\n",
        "        margin = top2_probs[:, 0] - top2_probs[:, 1]\n",
        "\n",
        "        # Identify and print samples with margin below the threshold\n",
        "        for i in range(len(targets)):\n",
        "            if margin[i] < margin_threshold:\n",
        "                print(f\"Sample {total_samples + i}: Margin = {margin[i]:.4f}\")\n",
        "\n",
        "                print(f\"True Label: {classes[targets[i]]}, Predicted: {classes[predicted[i]]}\\n\")\n",
        "\n",
        "        # Increment the counter for displayed samples\n",
        "                displayed_samples += 1\n",
        "\n",
        "                # Check if the maximum number of samples to display is reached\n",
        "                if displayed_samples >= max_display_samples:\n",
        "                    break\n",
        "        # Update total count\n",
        "        total_samples += len(targets)\n",
        "        # Check if the maximum number of samples to display is reached\n",
        "        if displayed_samples >= max_display_samples:\n",
        "            break\n",
        "\n",
        "\n"
      ],
      "metadata": {
        "colab": {
          "base_uri": "https://localhost:8080/"
        },
        "id": "kjb7MA6Z0_FW",
        "outputId": "70b9a669-5221-43ea-f01f-897ac8c403ee"
      },
      "execution_count": 38,
      "outputs": [
        {
          "output_type": "stream",
          "name": "stdout",
          "text": [
            "Sample 0: Margin = 0.0074\n",
            "True Label: cat, Predicted: dog\n",
            "\n",
            "Sample 2: Margin = 0.0664\n",
            "True Label: ship, Predicted: plane\n",
            "\n",
            "Sample 6: Margin = 0.1951\n",
            "True Label: car, Predicted: truck\n",
            "\n",
            "Sample 10: Margin = 0.0443\n",
            "True Label: plane, Predicted: deer\n",
            "\n",
            "Sample 12: Margin = 0.0465\n",
            "True Label: dog, Predicted: bird\n",
            "\n"
          ]
        }
      ]
    },
    {
      "cell_type": "markdown",
      "source": [
        "**Contrastive Active Learning using KL divergence between the current sample and its m nearest neighbours**"
      ],
      "metadata": {
        "id": "z360VAfH2FmU"
      }
    },
    {
      "cell_type": "code",
      "source": [
        "import numpy as np\n",
        "from sklearn.neighbors import NearestNeighbors\n",
        "from scipy.stats import entropy\n",
        "from keras.datasets import cifar10  # Assuming you have Keras installed\n",
        "\n",
        "# Load CIFAR-10 dataset\n",
        "(x_train, y_train), (_, _) = cifar10.load_data()\n",
        "\n",
        "# Flatten the images\n",
        "x_train = x_train.reshape(x_train.shape[0], -1)\n",
        "\n",
        "# Normalize the data to [0, 1]\n",
        "x_train = x_train.astype('float32') / 255\n",
        "\n",
        "# Set the number of neighbors (m)\n",
        "m = 5\n",
        "\n",
        "# Function to calculate KL divergence between two probability distributions\n",
        "def kl_divergence(p, q):\n",
        "    return entropy(p, q)\n",
        "\n",
        "# Function to calculate KL divergence between a sample and its m nearest neighbors\n",
        "def calculate_kl_divergence(sample, neighbors):\n",
        "    kl_divergences = [kl_divergence(sample, neighbor) for neighbor in neighbors]\n",
        "    return np.mean(kl_divergences)\n",
        "\n",
        "# Function to perform Contrastive Active Learning on CIFAR-10\n",
        "def contrastive_active_learning(x, m):\n",
        "    # Fit a nearest neighbors model\n",
        "    nn_model = NearestNeighbors(n_neighbors=m)\n",
        "    nn_model.fit(x)\n",
        "\n",
        "    # Get indices of neighbors for each sample\n",
        "    neighbor_indices = nn_model.kneighbors(x, return_distance=False)\n",
        "\n",
        "    # Initialize an array to store KL divergences\n",
        "    kl_divergences = np.zeros(x.shape[0])\n",
        "\n",
        "    # Calculate KL divergences for each sample\n",
        "    for i in range(x.shape[0]):\n",
        "        sample = x[i]\n",
        "        neighbors = x[neighbor_indices[i]]\n",
        "        kl_divergences[i] = calculate_kl_divergence(sample, neighbors)\n",
        "\n",
        "    # Sort indices based on KL divergences\n",
        "    selected_indices = np.argsort(kl_divergences)\n",
        "\n",
        "    return selected_indices\n",
        "\n",
        "# Perform Contrastive Active Learning\n",
        "selected_indices = contrastive_active_learning(x_train, m)\n",
        "\n",
        "# Print the selected indices (samples)\n",
        "print(\"Selected Indices:\", selected_indices)\n"
      ],
      "metadata": {
        "colab": {
          "base_uri": "https://localhost:8080/"
        },
        "id": "j5jtSzw_1pnM",
        "outputId": "7b52178d-8a6e-4af2-9207-e255e188f4f9"
      },
      "execution_count": 40,
      "outputs": [
        {
          "output_type": "stream",
          "name": "stdout",
          "text": [
            "Downloading data from https://www.cs.toronto.edu/~kriz/cifar-10-python.tar.gz\n",
            "170498071/170498071 [==============================] - 4s 0us/step\n",
            "Selected Indices: [ 9985 18617  9881 ... 12329 12350 12092]\n"
          ]
        }
      ]
    },
    {
      "cell_type": "markdown",
      "source": [
        "**TO IMPLEMENT DIVERISITY USING COSINE SIMILARITY**"
      ],
      "metadata": {
        "id": "2wPzJflfSqjC"
      }
    },
    {
      "cell_type": "code",
      "source": [
        "from sklearn.metrics.pairwise import cosine_similarity\n",
        "\n",
        "# Set the number of neighbors (m)\n",
        "m = 5\n",
        "\n",
        "# Function to calculate average cosine similarity between a sample and its m nearest neighbors\n",
        "def calculate_average_cosine_similarity(sample, neighbors):\n",
        "    cosine_similarities = cosine_similarity([sample], neighbors)[0]\n",
        "    return np.mean(cosine_similarities)\n",
        "\n",
        "# Function to perform DIVERSITY on CIFAR-10\n",
        "def diversity(x, m):\n",
        "    # Fit a nearest neighbors model\n",
        "    nn_model = NearestNeighbors(n_neighbors=m)\n",
        "    nn_model.fit(x)\n",
        "\n",
        "    # Get indices of neighbors for each sample\n",
        "    neighbor_indices = nn_model.kneighbors(x, return_distance=False)\n",
        "\n",
        "    # Initialize an array to store cosine similarities\n",
        "    cosine_similarities = np.zeros(x.shape[0])\n",
        "\n",
        "    # Calculate cosine similarities for each sample\n",
        "    for i in range(x.shape[0]):\n",
        "        sample = x[i]\n",
        "        neighbors = x[neighbor_indices[i]]\n",
        "        cosine_similarities[i] = calculate_average_cosine_similarity(sample, neighbors)\n",
        "\n",
        "    # Sort indices based on cosine similarities\n",
        "    selected_indices = np.argsort(cosine_similarities)\n",
        "\n",
        "    return selected_indices\n",
        "\n",
        "# Perform DIVERSITY\n",
        "selected_indices_diversity = diversity(x_train, m)\n",
        "\n",
        "# Print the selected indices (samples)\n",
        "print(\"Selected Indices (DIVERSITY):\", selected_indices_diversity)\n"
      ],
      "metadata": {
        "colab": {
          "base_uri": "https://localhost:8080/"
        },
        "id": "LaOrSo2tK6K1",
        "outputId": "052b8d62-0be0-48a0-b253-f00d42a70963"
      },
      "execution_count": 44,
      "outputs": [
        {
          "output_type": "stream",
          "name": "stdout",
          "text": [
            "Selected Indices (DIVERSITY): [44590 24118  9417 ...  9985 40590  9881]\n"
          ]
        }
      ]
    },
    {
      "cell_type": "markdown",
      "source": [
        "**TO IMPLEMENT DIVERSITY USING L2 NORM BETWEEN A SAMPLE AND ITS NEAREST M NEIGHBORS**"
      ],
      "metadata": {
        "id": "h8WUbvoFSvoB"
      }
    },
    {
      "cell_type": "code",
      "source": [
        "# Set the number of neighbors (m)\n",
        "m = 5\n",
        "\n",
        "# Function to calculate average L2 norm between a sample and its m nearest neighbors\n",
        "def calculate_average_l2_norm(sample, neighbors):\n",
        "    l2_norms = np.linalg.norm(neighbors - sample, axis=1)\n",
        "    return np.mean(l2_norms)\n",
        "\n",
        "# Function to perform DIVERSITY based on L2 norm on CIFAR-10\n",
        "def diversity_l2_norm(x, m):\n",
        "    # Fit a nearest neighbors model\n",
        "    nn_model = NearestNeighbors(n_neighbors=m)\n",
        "    nn_model.fit(x)\n",
        "\n",
        "    # Get indices of neighbors for each sample\n",
        "    neighbor_indices = nn_model.kneighbors(x, return_distance=False)\n",
        "\n",
        "    # Initialize an array to store L2 norms\n",
        "    l2_norms = np.zeros(x.shape[0])\n",
        "\n",
        "    # Calculate L2 norms for each sample\n",
        "    for i in range(x.shape[0]):\n",
        "        sample = x[i]\n",
        "        neighbors = x[neighbor_indices[i]]\n",
        "        l2_norms[i] = calculate_average_l2_norm(sample, neighbors)\n",
        "\n",
        "    # Sort indices based on L2 norms\n",
        "    selected_indices = np.argsort(l2_norms)\n",
        "\n",
        "    return selected_indices\n",
        "\n",
        "# Perform DIVERSITY based on L2 norm\n",
        "selected_indices_diversity_l2_norm = diversity_l2_norm(x_train, m)\n",
        "\n",
        "# Print the selected indices (samples)\n",
        "print(\"Selected Indices (DIVERSITY with L2 norm):\", selected_indices_diversity_l2_norm)"
      ],
      "metadata": {
        "colab": {
          "base_uri": "https://localhost:8080/"
        },
        "id": "pxnozw84L3r-",
        "outputId": "159e573e-7857-48e4-a30c-444ebe95df5e"
      },
      "execution_count": 45,
      "outputs": [
        {
          "output_type": "stream",
          "name": "stdout",
          "text": [
            "Selected Indices (DIVERSITY with L2 norm): [31426 39942  8072 ...  4564  7243 17717]\n"
          ]
        }
      ]
    }
  ],
  "metadata": {
    "colab": {
      "provenance": []
    },
    "kernelspec": {
      "display_name": "Python 3",
      "name": "python3"
    },
    "language_info": {
      "name": "python"
    }
  },
  "nbformat": 4,
  "nbformat_minor": 0
}